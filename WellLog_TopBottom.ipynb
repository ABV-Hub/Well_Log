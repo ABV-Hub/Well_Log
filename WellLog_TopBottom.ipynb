{
 "cells": [
  {
   "cell_type": "markdown",
   "metadata": {},
   "source": [
    "# Well Log Python Script #1, Prints Extent Of Data\n",
    "Using Lasio Python Module to find highest and lowest extent of non-NAN data for each curve in a single .LAS file\n"
   ]
  },
  {
   "cell_type": "markdown",
   "metadata": {},
   "source": [
    "#### Required modules for this notebook are:\n",
    "lasio, numpy, math, pprint\n",
    "\n",
    "\n",
    "#### The main module used in this notbook is lasio.\n",
    "\n",
    "http://pythonhosted.org/lasio/\n",
    "\n",
    "lasio is a Python package to read and write Log ASCII Standard (LAS) files, used for borehole/well data \n",
    "(e.g. geophysical/geological/petrophysical logs). It is compatible with versions 1.2 and 2.0 of the LAS file specification, \n",
    "published by the Canadian Well Logging Society. In principle it is designed to read as many types of LAS files as possible, \n",
    "including ones containing common errors or non-compliant formatting."
   ]
  },
  {
   "cell_type": "code",
   "execution_count": 1,
   "metadata": {
    "collapsed": false
   },
   "outputs": [
    {
     "name": "stdout",
     "output_type": "stream",
     "text": [
      "[Curve(mnemonic='DEPT', unit='F', value='00 001 00 00', descr='Logged depth', data=array([  5850. ,   5850.5,   5851. , ...,  15170.5,  15171. ,  15171.5])),\n",
      " Curve(mnemonic='GSXT', unit='DEGF', value='30 660 01 00', descr='MGS External Temperature', data=array([ 112.99619 ,  112.993129,  112.994691, ...,         nan,\n",
      "               nan,         nan])),\n",
      " Curve(mnemonic='IECX', unit='IN', value='45 000 00 00', descr='MIE Caliper X', data=array([ 8.758527,  8.756536,  8.754579, ...,       nan,       nan,\n",
      "             nan])),\n",
      " Curve(mnemonic='IECY', unit='IN', value='45 000 00 00', descr='MIE Caliper Y', data=array([ 8.822188,  8.827059,  8.830784, ...,       nan,       nan,\n",
      "             nan])),\n",
      " Curve(mnemonic='GMTH', unit='----', value='31 790 00 00', descr='Thorium Gamma', data=array([ 0.957728,  1.136352,  1.296748, ...,       nan,       nan,\n",
      "             nan])),\n",
      " Curve(mnemonic='GMUR', unit='----', value='31 792 00 00', descr='Uranium Gamma', data=array([ 2.102266,  1.829437,  1.532639, ...,       nan,       nan,\n",
      "             nan])),\n",
      " Curve(mnemonic='GMPO', unit='V/V', value='31 719 00 00', descr='Potassium Gamma', data=array([ 0.176155,  0.176529,  0.192556, ...,       nan,       nan,\n",
      "             nan])),\n",
      " Curve(mnemonic='GGRM', unit='GAPI', value='31 310 01 00', descr='Uranium Stripped Gamma', data=array([ 17.942712,  17.277931,  15.992773, ...,        nan,        nan,\n",
      "              nan])),\n",
      " Curve(mnemonic='NPOR', unit='V/V', value='42 890 04 00', descr='Base Neutron Porosity', data=array([ 0.215033,  0.218689,  0.232458, ...,       nan,       nan,\n",
      "             nan])),\n",
      " Curve(mnemonic='NPRL', unit='V/V', value='42 890 01 00', descr='Limestone Neutron Por.', data=array([ 0.092896,  0.095047,  0.103306, ...,       nan,       nan,\n",
      "             nan])),\n",
      " Curve(mnemonic='NPRS', unit='V/V', value='42 890 03 00', descr='Sandstone Neutron Por.', data=array([ 0.140607,  0.143234,  0.153223, ...,       nan,       nan,\n",
      "             nan])),\n",
      " Curve(mnemonic='NPRD', unit='V/V', value='42 890 02 00', descr='Dolomite Neutron Por.', data=array([ 0.080713,  0.08275 ,  0.090556, ...,       nan,       nan,\n",
      "             nan])),\n",
      " Curve(mnemonic='DCOR', unit='G/C3', value='42 356 01 00', descr='Density Correction', data=array([-0.446492, -0.446083, -0.446526, ...,       nan,       nan,\n",
      "             nan])),\n",
      " Curve(mnemonic='DEN', unit='G/C3', value='42 350 01 00', descr='Compensated Density', data=array([ 2.250639,  2.238101,  2.22176 , ...,       nan,       nan,\n",
      "             nan])),\n",
      " Curve(mnemonic='PDPE', unit='B/E', value='45 358 01 00', descr='PE', data=array([ 12.70881 ,  12.746755,  12.684605, ...,        nan,        nan,\n",
      "              nan])),\n",
      " Curve(mnemonic='DPOR', unit='V/V', value='45 890 13 00', descr='Base Density Porosity', data=array([ 0.268632,  0.275964,  0.28552 , ...,       nan,       nan,\n",
      "             nan])),\n",
      " Curve(mnemonic='DPRL', unit='V/V', value='45 890 10 00', descr='Limestone Density Por.', data=array([ 0.268632,  0.275964,  0.28552 , ...,       nan,       nan,\n",
      "             nan])),\n",
      " Curve(mnemonic='DPRS', unit='V/V', value='45 890 12 00', descr='Sandstone Density Por.', data=array([ 0.242037,  0.249636,  0.259539, ...,       nan,       nan,\n",
      "             nan])),\n",
      " Curve(mnemonic='DPRD', unit='V/V', value='45 890 11 00', descr='Dolomite Density Por.', data=array([ 0.331209,  0.337914,  0.346652, ...,       nan,       nan,\n",
      "             nan])),\n",
      " Curve(mnemonic='DSLL', unit='OHMM', value='11 220 09 00', descr='Shallow Laterolog', data=array([ 0.002761,  0.002761,  0.002761, ...,       nan,       nan,\n",
      "             nan])),\n",
      " Curve(mnemonic='DDLL', unit='OHMM', value='11 220 10 00', descr='Deep Laterolog', data=array([ 0.011761,  0.011677,  0.011678, ...,       nan,       nan,\n",
      "             nan])),\n",
      " Curve(mnemonic='MRRS', unit='OHMM', value='15 252 00 00', descr='MicroRes Resistance (S)', data=array([ 0.052707,  0.117124,  0.52444 , ...,       nan,       nan,\n",
      "             nan])),\n",
      " Curve(mnemonic='IRHS', unit='DEG', value='00 000 00 00', descr='Relative Bearing (HS)', data=array([ 64.682341,  59.342035,  53.836493, ...,        nan,        nan,\n",
      "              nan])),\n",
      " Curve(mnemonic='ITLT', unit='DEG', value='00 000 00 00', descr='Borehole Tilt', data=array([ 0.052431,  0.078945,  0.046729, ...,       nan,       nan,\n",
      "             nan])),\n",
      " Curve(mnemonic='DI26', unit='IN', value='70 280 02 00', descr='Imager Diameter 2 - 6', data=array([ 8.841946,  8.838473,  8.835561, ...,       nan,       nan,\n",
      "             nan])),\n",
      " Curve(mnemonic='DI48', unit='IN', value='70 280 02 00', descr='Imager Diameter 4 - 8', data=array([ 8.879371,  8.876619,  8.883238, ...,       nan,       nan,\n",
      "             nan])),\n",
      " Curve(mnemonic='BIT', unit='IN', value='70 282 00 00', descr='Bit size', data=array([ 12.25,  12.25,  12.25, ...,   8.75,   8.75,   8.75]))]\n"
     ]
    }
   ],
   "source": [
    "\"\"\"\n",
    "Justin Gosses\n",
    "python 2.7\n",
    "2015-10-08\n",
    "LASIO test - import and print logs from las file\n",
    "\"\"\"\n",
    "#import lasio and read the trial las as an object\n",
    "import lasio\n",
    "import numpy as np\n",
    "import math\n",
    "l = lasio.read(\"Test_1b.las\")\n",
    "## print all curves, will print all curve information\n",
    "from pprint import pprint\n",
    "pprint(l.curves)"
   ]
  },
  {
   "cell_type": "markdown",
   "metadata": {},
   "source": [
    "###### The previous print out had everything, but it was a little messy. It is easier to visualize what curves you have using the code below. "
   ]
  },
  {
   "cell_type": "code",
   "execution_count": 2,
   "metadata": {
    "collapsed": false
   },
   "outputs": [
    {
     "name": "stdout",
     "output_type": "stream",
     "text": [
      "DEPT\t[F]\t00 001 00 00\tLogged depth\n",
      "GSXT\t[DEGF]\t30 660 01 00\tMGS External Temperature\n",
      "IECX\t[IN]\t45 000 00 00\tMIE Caliper X\n",
      "IECY\t[IN]\t45 000 00 00\tMIE Caliper Y\n",
      "GMTH\t[----]\t31 790 00 00\tThorium Gamma\n",
      "GMUR\t[----]\t31 792 00 00\tUranium Gamma\n",
      "GMPO\t[V/V]\t31 719 00 00\tPotassium Gamma\n",
      "GGRM\t[GAPI]\t31 310 01 00\tUranium Stripped Gamma\n",
      "NPOR\t[V/V]\t42 890 04 00\tBase Neutron Porosity\n",
      "NPRL\t[V/V]\t42 890 01 00\tLimestone Neutron Por.\n",
      "NPRS\t[V/V]\t42 890 03 00\tSandstone Neutron Por.\n",
      "NPRD\t[V/V]\t42 890 02 00\tDolomite Neutron Por.\n",
      "DCOR\t[G/C3]\t42 356 01 00\tDensity Correction\n",
      "DEN\t[G/C3]\t42 350 01 00\tCompensated Density\n",
      "PDPE\t[B/E]\t45 358 01 00\tPE\n",
      "DPOR\t[V/V]\t45 890 13 00\tBase Density Porosity\n",
      "DPRL\t[V/V]\t45 890 10 00\tLimestone Density Por.\n",
      "DPRS\t[V/V]\t45 890 12 00\tSandstone Density Por.\n",
      "DPRD\t[V/V]\t45 890 11 00\tDolomite Density Por.\n",
      "DSLL\t[OHMM]\t11 220 09 00\tShallow Laterolog\n",
      "DDLL\t[OHMM]\t11 220 10 00\tDeep Laterolog\n",
      "MRRS\t[OHMM]\t15 252 00 00\tMicroRes Resistance (S)\n",
      "IRHS\t[DEG]\t00 000 00 00\tRelative Bearing (HS)\n",
      "ITLT\t[DEG]\t00 000 00 00\tBorehole Tilt\n",
      "DI26\t[IN]\t70 280 02 00\tImager Diameter 2 - 6\n",
      "DI48\t[IN]\t70 280 02 00\tImager Diameter 4 - 8\n",
      "BIT\t[IN]\t70 282 00 00\tBit size\n"
     ]
    }
   ],
   "source": [
    "#print curves but only mnemonic, units, values, and description\n",
    "for curve in l.curves:\n",
    "    print(\"%s\\t[%s]\\t%s\\t%s\" % (\n",
    "                                curve.mnemonic, curve.unit, curve.value, curve.descr))"
   ]
  },
  {
   "cell_type": "markdown",
   "metadata": {},
   "source": [
    "###### Now that we know what we are working with, let's find the lowest point where each curve has data. The reason we might want to do this is the lowest depth position on log curves is often going to be the lowest point any curve has data, not the lowest point that specific curve has data. \n",
    "\n",
    "###### When we get around to making visualizations of which wells have the necessary data over necessary intervals, this information will be important."
   ]
  },
  {
   "cell_type": "code",
   "execution_count": 3,
   "metadata": {
    "collapsed": false
   },
   "outputs": [
    {
     "name": "stdout",
     "output_type": "stream",
     "text": [
      "-1 =value at last non-NaN  15171.5 = bottom of curve:  DEPT\n",
      "-333 =value at last non-NaN  15005.5 = bottom of curve:  GSXT\n",
      "-48 =value at last non-NaN  15148.0 = bottom of curve:  IECX\n",
      "-48 =value at last non-NaN  15148.0 = bottom of curve:  IECY\n",
      "-308 =value at last non-NaN  15018.0 = bottom of curve:  GMTH\n",
      "-308 =value at last non-NaN  15018.0 = bottom of curve:  GMUR\n",
      "-308 =value at last non-NaN  15018.0 = bottom of curve:  GMPO\n",
      "-308 =value at last non-NaN  15018.0 = bottom of curve:  GGRM\n",
      "-257 =value at last non-NaN  15043.5 = bottom of curve:  NPOR\n",
      "-257 =value at last non-NaN  15043.5 = bottom of curve:  NPRL\n",
      "-257 =value at last non-NaN  15043.5 = bottom of curve:  NPRS\n",
      "-257 =value at last non-NaN  15043.5 = bottom of curve:  NPRD\n",
      "-223 =value at last non-NaN  15060.5 = bottom of curve:  DCOR\n",
      "-223 =value at last non-NaN  15060.5 = bottom of curve:  DEN\n",
      "-223 =value at last non-NaN  15060.5 = bottom of curve:  PDPE\n",
      "-223 =value at last non-NaN  15060.5 = bottom of curve:  DPOR\n",
      "-223 =value at last non-NaN  15060.5 = bottom of curve:  DPRL\n",
      "-223 =value at last non-NaN  15060.5 = bottom of curve:  DPRS\n",
      "-223 =value at last non-NaN  15060.5 = bottom of curve:  DPRD\n",
      "-169 =value at last non-NaN  15087.5 = bottom of curve:  DSLL\n",
      "-169 =value at last non-NaN  15087.5 = bottom of curve:  DDLL\n",
      "-289 =value at last non-NaN  15027.5 = bottom of curve:  MRRS\n",
      "-47 =value at last non-NaN  15148.5 = bottom of curve:  IRHS\n",
      "-47 =value at last non-NaN  15148.5 = bottom of curve:  ITLT\n",
      "-47 =value at last non-NaN  15148.5 = bottom of curve:  DI26\n",
      "-47 =value at last non-NaN  15148.5 = bottom of curve:  DI48\n",
      "-1 =value at last non-NaN  15171.5 = bottom of curve:  BIT\n",
      "None\n"
     ]
    }
   ],
   "source": [
    "def bottom_of_data_all_curves(well):\n",
    "    \"\"\"\n",
    "    finds lowest position in each curve that has data that is not NAN.\n",
    "    \"\"\"\n",
    "    for aa_curve in list(well.curves):\n",
    "        a_curve = aa_curve.mnemonic\n",
    "        #print a_curve,\"a_curve\"\n",
    "        x = -1\n",
    "        #print well[a_curve][x]\n",
    "        while math.isnan(well[a_curve][x]):\n",
    "            x -= 1\n",
    "        else:\n",
    "            last_data = x\n",
    "            trial_depth = well[\"DEPT\"][x]\n",
    "            print x,\"=value at last non-NaN \",trial_depth, \"= bottom of curve: \", a_curve\n",
    "\n",
    "print bottom_of_data_all_curves(l)        "
   ]
  },
  {
   "cell_type": "markdown",
   "metadata": {},
   "source": [
    "###### Now let's do the same thing for the top."
   ]
  },
  {
   "cell_type": "code",
   "execution_count": 4,
   "metadata": {
    "collapsed": false
   },
   "outputs": [
    {
     "name": "stdout",
     "output_type": "stream",
     "text": [
      "0 =value at last non-NaN  5850.0 = top of curve:  DEPT\n",
      "0 =value at last non-NaN  5850.0 = top of curve:  GSXT\n",
      "0 =value at last non-NaN  5850.0 = top of curve:  IECX\n",
      "0 =value at last non-NaN  5850.0 = top of curve:  IECY\n",
      "0 =value at last non-NaN  5850.0 = top of curve:  GMTH\n",
      "0 =value at last non-NaN  5850.0 = top of curve:  GMUR\n",
      "0 =value at last non-NaN  5850.0 = top of curve:  GMPO\n",
      "0 =value at last non-NaN  5850.0 = top of curve:  GGRM\n",
      "0 =value at last non-NaN  5850.0 = top of curve:  NPOR\n",
      "0 =value at last non-NaN  5850.0 = top of curve:  NPRL\n",
      "0 =value at last non-NaN  5850.0 = top of curve:  NPRS\n",
      "0 =value at last non-NaN  5850.0 = top of curve:  NPRD\n",
      "0 =value at last non-NaN  5850.0 = top of curve:  DCOR\n",
      "0 =value at last non-NaN  5850.0 = top of curve:  DEN\n",
      "0 =value at last non-NaN  5850.0 = top of curve:  PDPE\n",
      "0 =value at last non-NaN  5850.0 = top of curve:  DPOR\n",
      "0 =value at last non-NaN  5850.0 = top of curve:  DPRL\n",
      "0 =value at last non-NaN  5850.0 = top of curve:  DPRS\n",
      "0 =value at last non-NaN  5850.0 = top of curve:  DPRD\n",
      "0 =value at last non-NaN  5850.0 = top of curve:  DSLL\n",
      "0 =value at last non-NaN  5850.0 = top of curve:  DDLL\n",
      "0 =value at last non-NaN  5850.0 = top of curve:  MRRS\n",
      "0 =value at last non-NaN  5850.0 = top of curve:  IRHS\n",
      "0 =value at last non-NaN  5850.0 = top of curve:  ITLT\n",
      "0 =value at last non-NaN  5850.0 = top of curve:  DI26\n",
      "0 =value at last non-NaN  5850.0 = top of curve:  DI48\n",
      "0 =value at last non-NaN  5850.0 = top of curve:  BIT\n",
      "None\n"
     ]
    }
   ],
   "source": [
    "def top_of_data_all_curves(well):\n",
    "    \"\"\"\n",
    "    finds highest position in each curve that has data that is not NAN.\n",
    "    \"\"\"\n",
    "    for aa_curve in list(well.curves):\n",
    "        a_curve = aa_curve.mnemonic\n",
    "        #print a_curve,\"a_curve\"\n",
    "        x = 0\n",
    "        #print well[a_curve][x]\n",
    "        while math.isnan(well[a_curve][x]):\n",
    "            x += 1\n",
    "        else:\n",
    "            last_data = x\n",
    "            trial_depth = well[\"DEPT\"][x]\n",
    "            print x,\"=value at last non-NaN \",trial_depth, \"= top of curve: \", a_curve       \n",
    "\n",
    "print top_of_data_all_curves(l)\n"
   ]
  },
  {
   "cell_type": "code",
   "execution_count": null,
   "metadata": {
    "collapsed": true
   },
   "outputs": [],
   "source": []
  }
 ],
 "metadata": {
  "kernelspec": {
   "display_name": "Python 2",
   "language": "python",
   "name": "python2"
  },
  "language_info": {
   "codemirror_mode": {
    "name": "ipython",
    "version": 2
   },
   "file_extension": ".py",
   "mimetype": "text/x-python",
   "name": "python",
   "nbconvert_exporter": "python",
   "pygments_lexer": "ipython2",
   "version": "2.7.10"
  }
 },
 "nbformat": 4,
 "nbformat_minor": 0
}
